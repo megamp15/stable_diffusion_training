{
 "cells": [
  {
   "cell_type": "markdown",
   "metadata": {},
   "source": [
    "# Script for using pretrained diffusion model on Gum Stain Card Images"
   ]
  },
  {
   "cell_type": "markdown",
   "metadata": {},
   "source": [
    "First install the requirements file into a new virtual environment. "
   ]
  },
  {
   "cell_type": "code",
   "execution_count": 12,
   "metadata": {},
   "outputs": [
    {
     "name": "stdout",
     "output_type": "stream",
     "text": [
      "Requirement already satisfied: absl-py==2.1.0 in c:\\users\\pmahi\\onedrive\\desktop\\mp\\drexel\\courses\\cs591_592-900 - capstone\\stable_diffusion_training\\.env\\lib\\site-packages (from -r requirements.txt (line 1)) (2.1.0)\n",
      "Requirement already satisfied: accelerate==0.30.0 in c:\\users\\pmahi\\onedrive\\desktop\\mp\\drexel\\courses\\cs591_592-900 - capstone\\stable_diffusion_training\\.env\\lib\\site-packages (from -r requirements.txt (line 2)) (0.30.0)\n",
      "Requirement already satisfied: aiohttp==3.9.5 in c:\\users\\pmahi\\onedrive\\desktop\\mp\\drexel\\courses\\cs591_592-900 - capstone\\stable_diffusion_training\\.env\\lib\\site-packages (from -r requirements.txt (line 3)) (3.9.5)\n",
      "Requirement already satisfied: aiosignal==1.3.1 in c:\\users\\pmahi\\onedrive\\desktop\\mp\\drexel\\courses\\cs591_592-900 - capstone\\stable_diffusion_training\\.env\\lib\\site-packages (from -r requirements.txt (line 4)) (1.3.1)\n",
      "Requirement already satisfied: asttokens==2.4.1 in c:\\users\\pmahi\\onedrive\\desktop\\mp\\drexel\\courses\\cs591_592-900 - capstone\\stable_diffusion_training\\.env\\lib\\site-packages (from -r requirements.txt (line 5)) (2.4.1)\n",
      "Requirement already satisfied: attrs==23.2.0 in c:\\users\\pmahi\\onedrive\\desktop\\mp\\drexel\\courses\\cs591_592-900 - capstone\\stable_diffusion_training\\.env\\lib\\site-packages (from -r requirements.txt (line 6)) (23.2.0)\n",
      "Requirement already satisfied: certifi==2024.2.2 in c:\\users\\pmahi\\onedrive\\desktop\\mp\\drexel\\courses\\cs591_592-900 - capstone\\stable_diffusion_training\\.env\\lib\\site-packages (from -r requirements.txt (line 7)) (2024.2.2)\n",
      "Requirement already satisfied: charset-normalizer==3.3.2 in c:\\users\\pmahi\\onedrive\\desktop\\mp\\drexel\\courses\\cs591_592-900 - capstone\\stable_diffusion_training\\.env\\lib\\site-packages (from -r requirements.txt (line 8)) (3.3.2)\n",
      "Requirement already satisfied: colorama==0.4.6 in c:\\users\\pmahi\\onedrive\\desktop\\mp\\drexel\\courses\\cs591_592-900 - capstone\\stable_diffusion_training\\.env\\lib\\site-packages (from -r requirements.txt (line 9)) (0.4.6)\n",
      "Requirement already satisfied: comm==0.2.2 in c:\\users\\pmahi\\onedrive\\desktop\\mp\\drexel\\courses\\cs591_592-900 - capstone\\stable_diffusion_training\\.env\\lib\\site-packages (from -r requirements.txt (line 10)) (0.2.2)\n",
      "Requirement already satisfied: contourpy==1.2.1 in c:\\users\\pmahi\\onedrive\\desktop\\mp\\drexel\\courses\\cs591_592-900 - capstone\\stable_diffusion_training\\.env\\lib\\site-packages (from -r requirements.txt (line 11)) (1.2.1)\n",
      "Requirement already satisfied: cycler==0.12.1 in c:\\users\\pmahi\\onedrive\\desktop\\mp\\drexel\\courses\\cs591_592-900 - capstone\\stable_diffusion_training\\.env\\lib\\site-packages (from -r requirements.txt (line 12)) (0.12.1)\n",
      "Requirement already satisfied: datasets==2.19.0 in c:\\users\\pmahi\\onedrive\\desktop\\mp\\drexel\\courses\\cs591_592-900 - capstone\\stable_diffusion_training\\.env\\lib\\site-packages (from -r requirements.txt (line 13)) (2.19.0)\n",
      "Requirement already satisfied: debugpy==1.8.1 in c:\\users\\pmahi\\onedrive\\desktop\\mp\\drexel\\courses\\cs591_592-900 - capstone\\stable_diffusion_training\\.env\\lib\\site-packages (from -r requirements.txt (line 14)) (1.8.1)\n",
      "Requirement already satisfied: decorator==5.1.1 in c:\\users\\pmahi\\onedrive\\desktop\\mp\\drexel\\courses\\cs591_592-900 - capstone\\stable_diffusion_training\\.env\\lib\\site-packages (from -r requirements.txt (line 15)) (5.1.1)\n",
      "Requirement already satisfied: diffusers==0.27.2 in c:\\users\\pmahi\\onedrive\\desktop\\mp\\drexel\\courses\\cs591_592-900 - capstone\\stable_diffusion_training\\.env\\lib\\site-packages (from -r requirements.txt (line 16)) (0.27.2)\n",
      "Requirement already satisfied: dill==0.3.8 in c:\\users\\pmahi\\onedrive\\desktop\\mp\\drexel\\courses\\cs591_592-900 - capstone\\stable_diffusion_training\\.env\\lib\\site-packages (from -r requirements.txt (line 17)) (0.3.8)\n",
      "Requirement already satisfied: executing==2.0.1 in c:\\users\\pmahi\\onedrive\\desktop\\mp\\drexel\\courses\\cs591_592-900 - capstone\\stable_diffusion_training\\.env\\lib\\site-packages (from -r requirements.txt (line 18)) (2.0.1)\n",
      "Requirement already satisfied: filelock==3.13.1 in c:\\users\\pmahi\\onedrive\\desktop\\mp\\drexel\\courses\\cs591_592-900 - capstone\\stable_diffusion_training\\.env\\lib\\site-packages (from -r requirements.txt (line 19)) (3.13.1)\n",
      "Requirement already satisfied: fonttools==4.51.0 in c:\\users\\pmahi\\onedrive\\desktop\\mp\\drexel\\courses\\cs591_592-900 - capstone\\stable_diffusion_training\\.env\\lib\\site-packages (from -r requirements.txt (line 20)) (4.51.0)\n",
      "Requirement already satisfied: frozenlist==1.4.1 in c:\\users\\pmahi\\onedrive\\desktop\\mp\\drexel\\courses\\cs591_592-900 - capstone\\stable_diffusion_training\\.env\\lib\\site-packages (from -r requirements.txt (line 21)) (1.4.1)\n",
      "Requirement already satisfied: fsspec==2024.2.0 in c:\\users\\pmahi\\onedrive\\desktop\\mp\\drexel\\courses\\cs591_592-900 - capstone\\stable_diffusion_training\\.env\\lib\\site-packages (from -r requirements.txt (line 22)) (2024.2.0)\n",
      "Requirement already satisfied: grpcio==1.63.0 in c:\\users\\pmahi\\onedrive\\desktop\\mp\\drexel\\courses\\cs591_592-900 - capstone\\stable_diffusion_training\\.env\\lib\\site-packages (from -r requirements.txt (line 23)) (1.63.0)\n",
      "Requirement already satisfied: huggingface-hub==0.23.0 in c:\\users\\pmahi\\onedrive\\desktop\\mp\\drexel\\courses\\cs591_592-900 - capstone\\stable_diffusion_training\\.env\\lib\\site-packages (from -r requirements.txt (line 24)) (0.23.0)\n",
      "Requirement already satisfied: idna==3.7 in c:\\users\\pmahi\\onedrive\\desktop\\mp\\drexel\\courses\\cs591_592-900 - capstone\\stable_diffusion_training\\.env\\lib\\site-packages (from -r requirements.txt (line 25)) (3.7)\n",
      "Requirement already satisfied: importlib_metadata==7.1.0 in c:\\users\\pmahi\\onedrive\\desktop\\mp\\drexel\\courses\\cs591_592-900 - capstone\\stable_diffusion_training\\.env\\lib\\site-packages (from -r requirements.txt (line 26)) (7.1.0)\n",
      "Requirement already satisfied: intel-openmp==2021.4.0 in c:\\users\\pmahi\\onedrive\\desktop\\mp\\drexel\\courses\\cs591_592-900 - capstone\\stable_diffusion_training\\.env\\lib\\site-packages (from -r requirements.txt (line 27)) (2021.4.0)\n",
      "Requirement already satisfied: ipykernel==6.29.4 in c:\\users\\pmahi\\onedrive\\desktop\\mp\\drexel\\courses\\cs591_592-900 - capstone\\stable_diffusion_training\\.env\\lib\\site-packages (from -r requirements.txt (line 28)) (6.29.4)\n",
      "Requirement already satisfied: ipython==8.24.0 in c:\\users\\pmahi\\onedrive\\desktop\\mp\\drexel\\courses\\cs591_592-900 - capstone\\stable_diffusion_training\\.env\\lib\\site-packages (from -r requirements.txt (line 29)) (8.24.0)\n",
      "Requirement already satisfied: ipywidgets==8.1.2 in c:\\users\\pmahi\\onedrive\\desktop\\mp\\drexel\\courses\\cs591_592-900 - capstone\\stable_diffusion_training\\.env\\lib\\site-packages (from -r requirements.txt (line 30)) (8.1.2)\n",
      "Requirement already satisfied: jedi==0.19.1 in c:\\users\\pmahi\\onedrive\\desktop\\mp\\drexel\\courses\\cs591_592-900 - capstone\\stable_diffusion_training\\.env\\lib\\site-packages (from -r requirements.txt (line 31)) (0.19.1)\n",
      "Requirement already satisfied: Jinja2==3.1.3 in c:\\users\\pmahi\\onedrive\\desktop\\mp\\drexel\\courses\\cs591_592-900 - capstone\\stable_diffusion_training\\.env\\lib\\site-packages (from -r requirements.txt (line 32)) (3.1.3)\n",
      "Requirement already satisfied: jupyter_client==8.6.1 in c:\\users\\pmahi\\onedrive\\desktop\\mp\\drexel\\courses\\cs591_592-900 - capstone\\stable_diffusion_training\\.env\\lib\\site-packages (from -r requirements.txt (line 33)) (8.6.1)\n",
      "Requirement already satisfied: jupyter_core==5.7.2 in c:\\users\\pmahi\\onedrive\\desktop\\mp\\drexel\\courses\\cs591_592-900 - capstone\\stable_diffusion_training\\.env\\lib\\site-packages (from -r requirements.txt (line 34)) (5.7.2)\n",
      "Requirement already satisfied: jupyterlab_widgets==3.0.10 in c:\\users\\pmahi\\onedrive\\desktop\\mp\\drexel\\courses\\cs591_592-900 - capstone\\stable_diffusion_training\\.env\\lib\\site-packages (from -r requirements.txt (line 35)) (3.0.10)\n",
      "Requirement already satisfied: kiwisolver==1.4.5 in c:\\users\\pmahi\\onedrive\\desktop\\mp\\drexel\\courses\\cs591_592-900 - capstone\\stable_diffusion_training\\.env\\lib\\site-packages (from -r requirements.txt (line 36)) (1.4.5)\n",
      "Requirement already satisfied: Markdown==3.6 in c:\\users\\pmahi\\onedrive\\desktop\\mp\\drexel\\courses\\cs591_592-900 - capstone\\stable_diffusion_training\\.env\\lib\\site-packages (from -r requirements.txt (line 37)) (3.6)\n",
      "Requirement already satisfied: MarkupSafe==2.1.5 in c:\\users\\pmahi\\onedrive\\desktop\\mp\\drexel\\courses\\cs591_592-900 - capstone\\stable_diffusion_training\\.env\\lib\\site-packages (from -r requirements.txt (line 38)) (2.1.5)\n",
      "Requirement already satisfied: matplotlib==3.8.4 in c:\\users\\pmahi\\onedrive\\desktop\\mp\\drexel\\courses\\cs591_592-900 - capstone\\stable_diffusion_training\\.env\\lib\\site-packages (from -r requirements.txt (line 39)) (3.8.4)\n",
      "Requirement already satisfied: matplotlib-inline==0.1.7 in c:\\users\\pmahi\\onedrive\\desktop\\mp\\drexel\\courses\\cs591_592-900 - capstone\\stable_diffusion_training\\.env\\lib\\site-packages (from -r requirements.txt (line 40)) (0.1.7)\n",
      "Requirement already satisfied: mkl==2021.4.0 in c:\\users\\pmahi\\onedrive\\desktop\\mp\\drexel\\courses\\cs591_592-900 - capstone\\stable_diffusion_training\\.env\\lib\\site-packages (from -r requirements.txt (line 41)) (2021.4.0)\n",
      "Requirement already satisfied: mpmath==1.3.0 in c:\\users\\pmahi\\onedrive\\desktop\\mp\\drexel\\courses\\cs591_592-900 - capstone\\stable_diffusion_training\\.env\\lib\\site-packages (from -r requirements.txt (line 42)) (1.3.0)\n",
      "Requirement already satisfied: multidict==6.0.5 in c:\\users\\pmahi\\onedrive\\desktop\\mp\\drexel\\courses\\cs591_592-900 - capstone\\stable_diffusion_training\\.env\\lib\\site-packages (from -r requirements.txt (line 43)) (6.0.5)\n",
      "Requirement already satisfied: multiprocess==0.70.16 in c:\\users\\pmahi\\onedrive\\desktop\\mp\\drexel\\courses\\cs591_592-900 - capstone\\stable_diffusion_training\\.env\\lib\\site-packages (from -r requirements.txt (line 44)) (0.70.16)\n",
      "Requirement already satisfied: nest-asyncio==1.6.0 in c:\\users\\pmahi\\onedrive\\desktop\\mp\\drexel\\courses\\cs591_592-900 - capstone\\stable_diffusion_training\\.env\\lib\\site-packages (from -r requirements.txt (line 45)) (1.6.0)\n",
      "Requirement already satisfied: networkx==3.2.1 in c:\\users\\pmahi\\onedrive\\desktop\\mp\\drexel\\courses\\cs591_592-900 - capstone\\stable_diffusion_training\\.env\\lib\\site-packages (from -r requirements.txt (line 46)) (3.2.1)\n",
      "Requirement already satisfied: numpy==1.26.3 in c:\\users\\pmahi\\onedrive\\desktop\\mp\\drexel\\courses\\cs591_592-900 - capstone\\stable_diffusion_training\\.env\\lib\\site-packages (from -r requirements.txt (line 47)) (1.26.3)\n",
      "Requirement already satisfied: packaging==24.0 in c:\\users\\pmahi\\onedrive\\desktop\\mp\\drexel\\courses\\cs591_592-900 - capstone\\stable_diffusion_training\\.env\\lib\\site-packages (from -r requirements.txt (line 48)) (24.0)\n",
      "Requirement already satisfied: pandas==2.2.2 in c:\\users\\pmahi\\onedrive\\desktop\\mp\\drexel\\courses\\cs591_592-900 - capstone\\stable_diffusion_training\\.env\\lib\\site-packages (from -r requirements.txt (line 49)) (2.2.2)\n",
      "Requirement already satisfied: parso==0.8.4 in c:\\users\\pmahi\\onedrive\\desktop\\mp\\drexel\\courses\\cs591_592-900 - capstone\\stable_diffusion_training\\.env\\lib\\site-packages (from -r requirements.txt (line 50)) (0.8.4)\n",
      "Requirement already satisfied: peft==0.10.0 in c:\\users\\pmahi\\onedrive\\desktop\\mp\\drexel\\courses\\cs591_592-900 - capstone\\stable_diffusion_training\\.env\\lib\\site-packages (from -r requirements.txt (line 51)) (0.10.0)\n",
      "Requirement already satisfied: pillow==10.2.0 in c:\\users\\pmahi\\onedrive\\desktop\\mp\\drexel\\courses\\cs591_592-900 - capstone\\stable_diffusion_training\\.env\\lib\\site-packages (from -r requirements.txt (line 52)) (10.2.0)\n",
      "Requirement already satisfied: platformdirs==4.2.1 in c:\\users\\pmahi\\onedrive\\desktop\\mp\\drexel\\courses\\cs591_592-900 - capstone\\stable_diffusion_training\\.env\\lib\\site-packages (from -r requirements.txt (line 53)) (4.2.1)\n",
      "Requirement already satisfied: prompt-toolkit==3.0.43 in c:\\users\\pmahi\\onedrive\\desktop\\mp\\drexel\\courses\\cs591_592-900 - capstone\\stable_diffusion_training\\.env\\lib\\site-packages (from -r requirements.txt (line 54)) (3.0.43)\n",
      "Requirement already satisfied: protobuf==3.20.3 in c:\\users\\pmahi\\onedrive\\desktop\\mp\\drexel\\courses\\cs591_592-900 - capstone\\stable_diffusion_training\\.env\\lib\\site-packages (from -r requirements.txt (line 55)) (3.20.3)\n",
      "Requirement already satisfied: psutil==5.9.8 in c:\\users\\pmahi\\onedrive\\desktop\\mp\\drexel\\courses\\cs591_592-900 - capstone\\stable_diffusion_training\\.env\\lib\\site-packages (from -r requirements.txt (line 56)) (5.9.8)\n",
      "Requirement already satisfied: pure-eval==0.2.2 in c:\\users\\pmahi\\onedrive\\desktop\\mp\\drexel\\courses\\cs591_592-900 - capstone\\stable_diffusion_training\\.env\\lib\\site-packages (from -r requirements.txt (line 57)) (0.2.2)\n",
      "Requirement already satisfied: pyarrow==16.0.0 in c:\\users\\pmahi\\onedrive\\desktop\\mp\\drexel\\courses\\cs591_592-900 - capstone\\stable_diffusion_training\\.env\\lib\\site-packages (from -r requirements.txt (line 58)) (16.0.0)\n",
      "Requirement already satisfied: pyarrow-hotfix==0.6 in c:\\users\\pmahi\\onedrive\\desktop\\mp\\drexel\\courses\\cs591_592-900 - capstone\\stable_diffusion_training\\.env\\lib\\site-packages (from -r requirements.txt (line 59)) (0.6)\n",
      "Requirement already satisfied: Pygments==2.18.0 in c:\\users\\pmahi\\onedrive\\desktop\\mp\\drexel\\courses\\cs591_592-900 - capstone\\stable_diffusion_training\\.env\\lib\\site-packages (from -r requirements.txt (line 60)) (2.18.0)\n",
      "Requirement already satisfied: pyparsing==3.1.2 in c:\\users\\pmahi\\onedrive\\desktop\\mp\\drexel\\courses\\cs591_592-900 - capstone\\stable_diffusion_training\\.env\\lib\\site-packages (from -r requirements.txt (line 61)) (3.1.2)\n",
      "Requirement already satisfied: python-dateutil==2.9.0.post0 in c:\\users\\pmahi\\onedrive\\desktop\\mp\\drexel\\courses\\cs591_592-900 - capstone\\stable_diffusion_training\\.env\\lib\\site-packages (from -r requirements.txt (line 62)) (2.9.0.post0)\n",
      "Requirement already satisfied: pytz==2024.1 in c:\\users\\pmahi\\onedrive\\desktop\\mp\\drexel\\courses\\cs591_592-900 - capstone\\stable_diffusion_training\\.env\\lib\\site-packages (from -r requirements.txt (line 63)) (2024.1)\n",
      "Requirement already satisfied: pywin32==306 in c:\\users\\pmahi\\onedrive\\desktop\\mp\\drexel\\courses\\cs591_592-900 - capstone\\stable_diffusion_training\\.env\\lib\\site-packages (from -r requirements.txt (line 64)) (306)\n",
      "Requirement already satisfied: PyYAML==6.0.1 in c:\\users\\pmahi\\onedrive\\desktop\\mp\\drexel\\courses\\cs591_592-900 - capstone\\stable_diffusion_training\\.env\\lib\\site-packages (from -r requirements.txt (line 65)) (6.0.1)\n",
      "Requirement already satisfied: pyzmq==26.0.3 in c:\\users\\pmahi\\onedrive\\desktop\\mp\\drexel\\courses\\cs591_592-900 - capstone\\stable_diffusion_training\\.env\\lib\\site-packages (from -r requirements.txt (line 66)) (26.0.3)\n",
      "Requirement already satisfied: regex==2024.4.28 in c:\\users\\pmahi\\onedrive\\desktop\\mp\\drexel\\courses\\cs591_592-900 - capstone\\stable_diffusion_training\\.env\\lib\\site-packages (from -r requirements.txt (line 67)) (2024.4.28)\n",
      "Requirement already satisfied: requests==2.31.0 in c:\\users\\pmahi\\onedrive\\desktop\\mp\\drexel\\courses\\cs591_592-900 - capstone\\stable_diffusion_training\\.env\\lib\\site-packages (from -r requirements.txt (line 68)) (2.31.0)\n",
      "Requirement already satisfied: safetensors==0.4.3 in c:\\users\\pmahi\\onedrive\\desktop\\mp\\drexel\\courses\\cs591_592-900 - capstone\\stable_diffusion_training\\.env\\lib\\site-packages (from -r requirements.txt (line 69)) (0.4.3)\n",
      "Requirement already satisfied: six==1.16.0 in c:\\users\\pmahi\\onedrive\\desktop\\mp\\drexel\\courses\\cs591_592-900 - capstone\\stable_diffusion_training\\.env\\lib\\site-packages (from -r requirements.txt (line 70)) (1.16.0)\n",
      "Requirement already satisfied: stack-data==0.6.3 in c:\\users\\pmahi\\onedrive\\desktop\\mp\\drexel\\courses\\cs591_592-900 - capstone\\stable_diffusion_training\\.env\\lib\\site-packages (from -r requirements.txt (line 71)) (0.6.3)\n",
      "Requirement already satisfied: sympy==1.12 in c:\\users\\pmahi\\onedrive\\desktop\\mp\\drexel\\courses\\cs591_592-900 - capstone\\stable_diffusion_training\\.env\\lib\\site-packages (from -r requirements.txt (line 72)) (1.12)\n",
      "Requirement already satisfied: tbb==2021.11.0 in c:\\users\\pmahi\\onedrive\\desktop\\mp\\drexel\\courses\\cs591_592-900 - capstone\\stable_diffusion_training\\.env\\lib\\site-packages (from -r requirements.txt (line 73)) (2021.11.0)\n",
      "Requirement already satisfied: tensorboard==2.16.2 in c:\\users\\pmahi\\onedrive\\desktop\\mp\\drexel\\courses\\cs591_592-900 - capstone\\stable_diffusion_training\\.env\\lib\\site-packages (from -r requirements.txt (line 74)) (2.16.2)\n",
      "Requirement already satisfied: tensorboard-data-server==0.7.2 in c:\\users\\pmahi\\onedrive\\desktop\\mp\\drexel\\courses\\cs591_592-900 - capstone\\stable_diffusion_training\\.env\\lib\\site-packages (from -r requirements.txt (line 75)) (0.7.2)\n",
      "Requirement already satisfied: tokenizers==0.19.1 in c:\\users\\pmahi\\onedrive\\desktop\\mp\\drexel\\courses\\cs591_592-900 - capstone\\stable_diffusion_training\\.env\\lib\\site-packages (from -r requirements.txt (line 76)) (0.19.1)\n",
      "Requirement already satisfied: torch==2.3.0+cu118 in c:\\users\\pmahi\\onedrive\\desktop\\mp\\drexel\\courses\\cs591_592-900 - capstone\\stable_diffusion_training\\.env\\lib\\site-packages (from -r requirements.txt (line 77)) (2.3.0+cu118)\n",
      "Requirement already satisfied: torchaudio==2.3.0+cu118 in c:\\users\\pmahi\\onedrive\\desktop\\mp\\drexel\\courses\\cs591_592-900 - capstone\\stable_diffusion_training\\.env\\lib\\site-packages (from -r requirements.txt (line 78)) (2.3.0+cu118)\n",
      "Requirement already satisfied: torchvision==0.18.0+cu118 in c:\\users\\pmahi\\onedrive\\desktop\\mp\\drexel\\courses\\cs591_592-900 - capstone\\stable_diffusion_training\\.env\\lib\\site-packages (from -r requirements.txt (line 79)) (0.18.0+cu118)\n",
      "Requirement already satisfied: tornado==6.4 in c:\\users\\pmahi\\onedrive\\desktop\\mp\\drexel\\courses\\cs591_592-900 - capstone\\stable_diffusion_training\\.env\\lib\\site-packages (from -r requirements.txt (line 80)) (6.4)\n",
      "Requirement already satisfied: tqdm==4.66.4 in c:\\users\\pmahi\\onedrive\\desktop\\mp\\drexel\\courses\\cs591_592-900 - capstone\\stable_diffusion_training\\.env\\lib\\site-packages (from -r requirements.txt (line 81)) (4.66.4)\n",
      "Requirement already satisfied: traitlets==5.14.3 in c:\\users\\pmahi\\onedrive\\desktop\\mp\\drexel\\courses\\cs591_592-900 - capstone\\stable_diffusion_training\\.env\\lib\\site-packages (from -r requirements.txt (line 82)) (5.14.3)\n",
      "Requirement already satisfied: transformers==4.40.1 in c:\\users\\pmahi\\onedrive\\desktop\\mp\\drexel\\courses\\cs591_592-900 - capstone\\stable_diffusion_training\\.env\\lib\\site-packages (from -r requirements.txt (line 83)) (4.40.1)\n",
      "Requirement already satisfied: typing_extensions==4.9.0 in c:\\users\\pmahi\\onedrive\\desktop\\mp\\drexel\\courses\\cs591_592-900 - capstone\\stable_diffusion_training\\.env\\lib\\site-packages (from -r requirements.txt (line 84)) (4.9.0)\n",
      "Requirement already satisfied: tzdata==2024.1 in c:\\users\\pmahi\\onedrive\\desktop\\mp\\drexel\\courses\\cs591_592-900 - capstone\\stable_diffusion_training\\.env\\lib\\site-packages (from -r requirements.txt (line 85)) (2024.1)\n",
      "Requirement already satisfied: urllib3==2.2.1 in c:\\users\\pmahi\\onedrive\\desktop\\mp\\drexel\\courses\\cs591_592-900 - capstone\\stable_diffusion_training\\.env\\lib\\site-packages (from -r requirements.txt (line 86)) (2.2.1)\n",
      "Requirement already satisfied: wcwidth==0.2.13 in c:\\users\\pmahi\\onedrive\\desktop\\mp\\drexel\\courses\\cs591_592-900 - capstone\\stable_diffusion_training\\.env\\lib\\site-packages (from -r requirements.txt (line 87)) (0.2.13)\n",
      "Requirement already satisfied: Werkzeug==3.0.2 in c:\\users\\pmahi\\onedrive\\desktop\\mp\\drexel\\courses\\cs591_592-900 - capstone\\stable_diffusion_training\\.env\\lib\\site-packages (from -r requirements.txt (line 88)) (3.0.2)\n",
      "Requirement already satisfied: widgetsnbextension==4.0.10 in c:\\users\\pmahi\\onedrive\\desktop\\mp\\drexel\\courses\\cs591_592-900 - capstone\\stable_diffusion_training\\.env\\lib\\site-packages (from -r requirements.txt (line 89)) (4.0.10)\n",
      "Requirement already satisfied: xxhash==3.4.1 in c:\\users\\pmahi\\onedrive\\desktop\\mp\\drexel\\courses\\cs591_592-900 - capstone\\stable_diffusion_training\\.env\\lib\\site-packages (from -r requirements.txt (line 90)) (3.4.1)\n",
      "Requirement already satisfied: yarl==1.9.4 in c:\\users\\pmahi\\onedrive\\desktop\\mp\\drexel\\courses\\cs591_592-900 - capstone\\stable_diffusion_training\\.env\\lib\\site-packages (from -r requirements.txt (line 91)) (1.9.4)\n",
      "Requirement already satisfied: zipp==3.18.1 in c:\\users\\pmahi\\onedrive\\desktop\\mp\\drexel\\courses\\cs591_592-900 - capstone\\stable_diffusion_training\\.env\\lib\\site-packages (from -r requirements.txt (line 92)) (3.18.1)\n",
      "Requirement already satisfied: setuptools>=41.0.0 in c:\\users\\pmahi\\onedrive\\desktop\\mp\\drexel\\courses\\cs591_592-900 - capstone\\stable_diffusion_training\\.env\\lib\\site-packages (from tensorboard==2.16.2->-r requirements.txt (line 74)) (65.5.0)\n"
     ]
    }
   ],
   "source": [
    "!pip install -r requirements.txt"
   ]
  },
  {
   "cell_type": "markdown",
   "metadata": {},
   "source": [
    "Setup the device according to your machine"
   ]
  },
  {
   "cell_type": "code",
   "execution_count": 13,
   "metadata": {},
   "outputs": [],
   "source": [
    "from diffusers import DiffusionPipeline\n",
    "import torch\n",
    "import os\n",
    "device = \"cuda\" # If on mac use: \"mps\" or just use a cpu: \"cpu\""
   ]
  },
  {
   "cell_type": "markdown",
   "metadata": {},
   "source": [
    "Pulling the diffusion model from hugging face and setting up the generator pipeline. \n"
   ]
  },
  {
   "cell_type": "code",
   "execution_count": 14,
   "metadata": {},
   "outputs": [],
   "source": [
    "def generator(model, device = \"cpu\", num_images = 1):\n",
    "    generator = DiffusionPipeline.from_pretrained(\n",
    "        model, torch_dtype=torch.float32, use_safetensors=True\n",
    "    ).to(device)\n",
    "    for i in range(num_images):\n",
    "        image = generator().images[0]\n",
    "        output_path = f\"./generated_cards/{model}\"\n",
    "        os.makedirs(output_path, exist_ok=True) \n",
    "        image.save(f\"{output_path}/image{i}.png\")\n"
   ]
  },
  {
   "cell_type": "code",
   "execution_count": 23,
   "metadata": {},
   "outputs": [],
   "source": [
    "\"\"\"\n",
    "Change the model variable to any of the following: \n",
    "    megamp15/cards\n",
    "    megamp15/all_gum_stain_cards\n",
    "    megamp15/higher_res_gum_stain_cards\n",
    "    megamp15/FULL_GUM_STAIN_CARDS\n",
    "    megamp15/WHITE_OR_MARKS_GUM_STAIN_CARDS\n",
    "\"\"\"\n",
    "\n",
    "model = \"megamp15/WHITE_OR_MARKS_GUM_STAIN_CARDS\""
   ]
  },
  {
   "cell_type": "markdown",
   "metadata": {},
   "source": [
    "Generate cards using the generator"
   ]
  },
  {
   "cell_type": "code",
   "execution_count": 24,
   "metadata": {},
   "outputs": [
    {
     "data": {
      "application/vnd.jupyter.widget-view+json": {
       "model_id": "03df724d21424b16a2c14d4aadd3a1bb",
       "version_major": 2,
       "version_minor": 0
      },
      "text/plain": [
       "model_index.json:   0%|          | 0.00/193 [00:00<?, ?B/s]"
      ]
     },
     "metadata": {},
     "output_type": "display_data"
    },
    {
     "data": {
      "application/vnd.jupyter.widget-view+json": {
       "model_id": "ec6ba6dc94944ad2bd2cbb7450a5894b",
       "version_major": 2,
       "version_minor": 0
      },
      "text/plain": [
       "Fetching 4 files:   0%|          | 0/4 [00:00<?, ?it/s]"
      ]
     },
     "metadata": {},
     "output_type": "display_data"
    },
    {
     "data": {
      "application/vnd.jupyter.widget-view+json": {
       "model_id": "005cf3bd30e7431ab33ed07c28dd635c",
       "version_major": 2,
       "version_minor": 0
      },
      "text/plain": [
       "scheduler/scheduler_config.json:   0%|          | 0.00/516 [00:00<?, ?B/s]"
      ]
     },
     "metadata": {},
     "output_type": "display_data"
    },
    {
     "data": {
      "application/vnd.jupyter.widget-view+json": {
       "model_id": "ebf45e6d25404fc6aece1aebe1273f74",
       "version_major": 2,
       "version_minor": 0
      },
      "text/plain": [
       "unet/config.json:   0%|          | 0.00/1.12k [00:00<?, ?B/s]"
      ]
     },
     "metadata": {},
     "output_type": "display_data"
    },
    {
     "data": {
      "application/vnd.jupyter.widget-view+json": {
       "model_id": "fe1a4760870542a58b1b7198ce588a28",
       "version_major": 2,
       "version_minor": 0
      },
      "text/plain": [
       "diffusion_pytorch_model.safetensors:   0%|          | 0.00/455M [00:00<?, ?B/s]"
      ]
     },
     "metadata": {},
     "output_type": "display_data"
    },
    {
     "data": {
      "application/vnd.jupyter.widget-view+json": {
       "model_id": "8a3a9fbf1493405a8ba51ec7f485bda0",
       "version_major": 2,
       "version_minor": 0
      },
      "text/plain": [
       "Loading pipeline components...:   0%|          | 0/2 [00:00<?, ?it/s]"
      ]
     },
     "metadata": {},
     "output_type": "display_data"
    },
    {
     "data": {
      "application/vnd.jupyter.widget-view+json": {
       "model_id": "cfaecd7af2124bc8957ae5b5bf8e21de",
       "version_major": 2,
       "version_minor": 0
      },
      "text/plain": [
       "  0%|          | 0/1000 [00:00<?, ?it/s]"
      ]
     },
     "metadata": {},
     "output_type": "display_data"
    }
   ],
   "source": [
    "generator(model=model, device=device, num_images=1)"
   ]
  }
 ],
 "metadata": {
  "kernelspec": {
   "display_name": ".env",
   "language": "python",
   "name": "python3"
  },
  "language_info": {
   "codemirror_mode": {
    "name": "ipython",
    "version": 3
   },
   "file_extension": ".py",
   "mimetype": "text/x-python",
   "name": "python",
   "nbconvert_exporter": "python",
   "pygments_lexer": "ipython3",
   "version": "3.11.9"
  }
 },
 "nbformat": 4,
 "nbformat_minor": 2
}
